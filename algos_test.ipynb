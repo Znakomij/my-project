{
 "cells": [
  {
   "cell_type": "markdown",
   "metadata": {
    "id": "zIcopkuDSHYU"
   },
   "source": [
    "# Углубленное программирование Python. Модуль 2. Алгоритмы поиска."
   ]
  },
  {
   "cell_type": "markdown",
   "metadata": {
    "id": "tvyyOViKSHYY"
   },
   "source": [
    "### Линейный поиск"
   ]
  },
  {
   "cell_type": "code",
   "execution_count": 78,
   "metadata": {
    "id": "ztfvZHU9SHYY"
   },
   "outputs": [],
   "source": [
    "def lin_search(my_seq, item):\n",
    "    for i in range(len(my_seq)):\n",
    "        if my_seq[i] == item:\n",
    "            return i\n",
    "    return -1"
   ]
  },
  {
   "cell_type": "markdown",
   "metadata": {
    "id": "8mywGNjESHYa"
   },
   "source": [
    "### Бинарный поиск"
   ]
  },
  {
   "cell_type": "code",
   "execution_count": 81,
   "metadata": {
    "id": "62yBhr0BSHYa"
   },
   "outputs": [],
   "source": [
    "def bin_search(my_seq, item):\n",
    "    first = 0\n",
    "    last = len(my_seq) - 1\n",
    "    index = -1\n",
    "    while (first <= last) and (index == -1):\n",
    "        mid = (first+last) // 2\n",
    "        if my_seq[mid] == item:\n",
    "            index = mid\n",
    "        else:\n",
    "            if item < my_seq[mid]:\n",
    "                last = mid - 1\n",
    "            else:\n",
    "                first = mid + 1\n",
    "    return index"
   ]
  },
  {
   "cell_type": "markdown",
   "metadata": {
    "id": "NG4Rr4erSHYb"
   },
   "source": [
    "### Jump Search"
   ]
  },
  {
   "cell_type": "code",
   "execution_count": 84,
   "metadata": {
    "id": "ErjCoybkSHYb"
   },
   "outputs": [],
   "source": [
    "import math\n",
    "\n",
    "def jump_search(my_seq, item):\n",
    "    length = len(my_seq)\n",
    "    jump = int(math.sqrt(length))\n",
    "    left, right = 0, 0\n",
    "    while left < length and my_seq[left] <= item:\n",
    "        right = min(length - 1, left + jump)\n",
    "        if my_seq[left] <= item <= my_seq[right]:\n",
    "            break\n",
    "        left += jump\n",
    "    if left >= length or my_seq[left] > item:\n",
    "        return -1\n",
    "    right = min(length - 1, right)\n",
    "    i = left\n",
    "    while i <= right and my_seq[i] <= item:\n",
    "        if my_seq[i] == item:\n",
    "            return i\n",
    "        i += 1\n",
    "    return -1"
   ]
  },
  {
   "cell_type": "markdown",
   "metadata": {
    "id": "VpjpGJ2rSHYc"
   },
   "source": [
    "### Поиск Фибоначчи"
   ]
  },
  {
   "cell_type": "code",
   "execution_count": 119,
   "metadata": {
    "id": "lFCbzexLSHYc"
   },
   "outputs": [],
   "source": [
    "def fib_search(my_seq, item):\n",
    "    fibm_min_2 = 0\n",
    "    fibm_min_1 = 1\n",
    "    fibm = fibm_min_1 + fibm_min_2\n",
    "\n",
    "    while fibm < len(my_seq):\n",
    "        fibm_min_2 = fibm_min_1\n",
    "        fibm_min_1 = fibm\n",
    "        fibm = fibm_min_1 + fibm_min_2\n",
    "    index = -1\n",
    "\n",
    "    while fibm > 1:\n",
    "        i = min(index + fibm_min_2, (len(my_seq)-1))\n",
    "        if my_seq[i] < item:\n",
    "            fibm = fibm_min_1\n",
    "            fibm_min_1 = fibm_min_2\n",
    "            fibm_min_2 = fibm - fibm_min_1\n",
    "            index = i\n",
    "        elif my_seq[i] > item:\n",
    "            fibm = fibm_min_2\n",
    "            fibm_min_1 = fibm_min_1 - fibm_min_2\n",
    "            fibm_min_2 = fibm - fibm_min_1\n",
    "        else:\n",
    "            return i\n",
    "\n",
    "    if fibm_min_1 and index < len(my_seq) - 1 and my_seq[index + 1] == item:\n",
    "        return index+1\n",
    "    return -1"
   ]
  },
  {
   "cell_type": "markdown",
   "metadata": {
    "id": "omIZfpd4SHYc"
   },
   "source": [
    "### Экспоненциальный поиск"
   ]
  },
  {
   "cell_type": "code",
   "execution_count": 90,
   "metadata": {
    "id": "Nj-2VyubSHYd"
   },
   "outputs": [],
   "source": [
    "def bin_search(my_seq, item):\n",
    "    first = 0\n",
    "    last = len(my_seq) - 1\n",
    "    index = -1\n",
    "    while (first <= last) and (index == -1):\n",
    "        mid = (first+last) // 2\n",
    "        if my_seq[mid] == item:\n",
    "            index = mid\n",
    "        else:\n",
    "            if item < my_seq[mid]:\n",
    "                last = mid - 1\n",
    "            else:\n",
    "                first = mid + 1\n",
    "    return index\n",
    "\n",
    "\n",
    "def exp_search(my_seq, item):\n",
    "    if my_seq[0] == item:\n",
    "        return 0\n",
    "    index = 1\n",
    "    while index < len(my_seq) and my_seq[index] <= item:\n",
    "        index = index * 2\n",
    "    return bin_search(my_seq[:min(index, len(my_seq))], item)"
   ]
  },
  {
   "cell_type": "markdown",
   "metadata": {
    "id": "1h1OjH9qSHYd"
   },
   "source": [
    "### Интерполяционный поиск"
   ]
  },
  {
   "cell_type": "code",
   "execution_count": 93,
   "metadata": {
    "id": "wi2jhl3rSHYd"
   },
   "outputs": [],
   "source": [
    "def interp_search(my_seq, item):\n",
    "    low = 0\n",
    "    high = (len(my_seq) - 1)\n",
    "    while low <= high and my_seq[low] <= item <= my_seq[high]:\n",
    "        index = low + int(((float(high - low) / (my_seq[high] - my_seq[low])) * (item - my_seq[low])))\n",
    "        if my_seq[index] == item:\n",
    "            return index\n",
    "        if my_seq[index] < item:\n",
    "            low = index + 1\n",
    "        else:\n",
    "            high = index - 1\n",
    "    return -1"
   ]
  },
  {
   "cell_type": "markdown",
   "metadata": {
    "id": "5R_NAuzbSHYd"
   },
   "source": [
    "## Практическая работа"
   ]
  },
  {
   "cell_type": "markdown",
   "metadata": {
    "id": "vFJ3mzDOSHYd"
   },
   "source": [
    "Используя рассмотренные алгоритмы поиска, реализованные в виде функций, нужно оценить их эффективность на разных типах входных данных.\n",
    "\n",
    "Каждый алгоритм нужно протестировать для случайно сгенерированного и отсортированного списка. Оценить эффективность, сделать выводы о применимости алгоритмов.\n",
    "\n",
    "В качестве входных данных можно использовать сгенерированные списки случайных чисел.\n",
    "\n",
    "Среднее время исполнения можно оценить, используя библиотеку timeit.\n"
   ]
  },
  {
   "cell_type": "markdown",
   "metadata": {},
   "source": [
    "### Универсальная функция для тестирования алгоритмов поиска:"
   ]
  },
  {
   "cell_type": "code",
   "execution_count": 97,
   "metadata": {
    "id": "jzK8W-JeSHYd"
   },
   "outputs": [],
   "source": [
    "import timeit\n",
    "\n",
    "def test_search_algorithm(algorithm, algorithm_name):\n",
    "    \"\"\"\n",
    "    Универсальная функция для тестирования алгоритмов поиска.\n",
    "    :param algorithm: Функция алгоритма поиска (например, lin_search, bin_search и т.д.)\n",
    "    :param algorithm_name: Название алгоритма (для вывода в консоль)\n",
    "    \"\"\"\n",
    "    print(f\"\\n{algorithm_name}:\")\n",
    "    \n",
    "    # Тестирование на неотсортированном списке\n",
    "    print(\"Неотсортированный список:\")\n",
    "    print(f\"Начало: {timeit.timeit(lambda: algorithm(source_list, source_item_start), number=100) / 100} секунд\")\n",
    "    print(f\"Середина: {timeit.timeit(lambda: algorithm(source_list, source_item_mid), number=100) / 100} секунд\")\n",
    "    print(f\"Конец: {timeit.timeit(lambda: algorithm(source_list, source_item_end), number=100) / 100} секунд\")\n",
    "    \n",
    "    # Тестирование на отсортированном списке\n",
    "    print(\"Отсортированный список:\")\n",
    "    print(f\"Начало: {timeit.timeit(lambda: algorithm(sorted_list, sorted_item_start), number=100) / 100} секунд\")\n",
    "    print(f\"Середина: {timeit.timeit(lambda: algorithm(sorted_list, sorted_item_mid), number=100) / 100} секунд\")\n",
    "    print(f\"Конец: {timeit.timeit(lambda: algorithm(sorted_list, sorted_item_end), number=100) / 100} секунд\")"
   ]
  },
  {
   "cell_type": "markdown",
   "metadata": {
    "id": "v1HyHq6RSHYd"
   },
   "source": [
    "Генерация списков:"
   ]
  },
  {
   "cell_type": "code",
   "execution_count": 121,
   "metadata": {
    "id": "6rf_ezvISHYe"
   },
   "outputs": [],
   "source": [
    "from random import randint\n",
    "\n",
    "source_list = [randint(-100000000, 100000000) for i in range(1000000)]  # Генерация списка случайных чисел\n",
    "source_item_start = source_list[100]   # Элемент из начала исходного массива\n",
    "source_item_mid = source_list[500000]  # Элемент из середины исходного массива\n",
    "source_item_end = source_list[990000]  # Элемент из конца исходного массива\n",
    "\n",
    "sorted_list = sorted(source_list)   # Отсортированный список\n",
    "sorted_item_start = sorted_list[100]   # Элемент из начала отсортированного массива\n",
    "sorted_item_mid = sorted_list[500000]  # Элемент из середины отсортированного массива\n",
    "sorted_item_end = sorted_list[990000]  # Элемент из конца отсортированного массива"
   ]
  },
  {
   "cell_type": "markdown",
   "metadata": {},
   "source": [
    "## Оценка производительности алогоритмов"
   ]
  },
  {
   "cell_type": "code",
   "execution_count": 101,
   "metadata": {},
   "outputs": [
    {
     "name": "stdout",
     "output_type": "stream",
     "text": [
      "\n",
      "Линейный поиск:\n",
      "Неотсортированный список:\n",
      "Начало: 3.017000271938741e-06 секунд\n",
      "Середина: 0.017175435000099243 секунд\n",
      "Конец: 0.03494848000002094 секунд\n",
      "Отсортированный список:\n",
      "Начало: 2.823999966494739e-06 секунд\n",
      "Середина: 0.031084919000277295 секунд\n",
      "Конец: 0.06102509299991652 секунд\n"
     ]
    }
   ],
   "source": [
    "test_search_algorithm(lin_search, \"Линейный поиск\")"
   ]
  },
  {
   "cell_type": "markdown",
   "metadata": {},
   "source": [
    "Выводы:\n",
    "* Линейный поиск эффективен только для небольших списков или когда искомый элемент находится в начале списка.\n",
    "\n",
    "* На больших списках его производительность резко падает, особенно если элемент находится в конце.\n",
    "\n",
    "* Не требует предварительной сортировки данных."
   ]
  },
  {
   "cell_type": "code",
   "execution_count": 103,
   "metadata": {},
   "outputs": [
    {
     "name": "stdout",
     "output_type": "stream",
     "text": [
      "\n",
      "Бинарный поиск:\n",
      "Неотсортированный список:\n",
      "Начало: 3.5639997804537417e-06 секунд\n",
      "Середина: 3.195999888703227e-06 секунд\n",
      "Конец: 3.185999812558293e-06 секунд\n",
      "Отсортированный список:\n",
      "Начало: 2.8249999741092323e-06 секунд\n",
      "Середина: 2.98400002066046e-06 секунд\n",
      "Конец: 3.1149998540058733e-06 секунд\n"
     ]
    }
   ],
   "source": [
    "test_search_algorithm(bin_search, \"Бинарный поиск\")"
   ]
  },
  {
   "cell_type": "markdown",
   "metadata": {},
   "source": [
    "Выводы:\n",
    "\n",
    "* Бинарный поиск работает очень быстро на отсортированных данных.\n",
    "\n",
    "* На неотсортированных данных результаты могут быть некорректными, так как алгоритм предполагает, что данные отсортированы.\n",
    "\n",
    "* Идеально подходит для поиска в отсортированных списках."
   ]
  },
  {
   "cell_type": "code",
   "execution_count": 104,
   "metadata": {},
   "outputs": [
    {
     "name": "stdout",
     "output_type": "stream",
     "text": [
      "\n",
      "Jump Search:\n",
      "Неотсортированный список:\n",
      "Начало: 1.3518999912776053e-05 секунд\n",
      "Середина: 1.1780002387240529e-06 секунд\n",
      "Конец: 3.519997699186206e-07 секунд\n",
      "Отсортированный список:\n",
      "Начало: 6.596000166609883e-06 секунд\n",
      "Середина: 0.00018304400029592216 секунд\n",
      "Конец: 0.0002904520003357902 секунд\n"
     ]
    }
   ],
   "source": [
    "test_search_algorithm(jump_search, \"Jump Search\")"
   ]
  },
  {
   "cell_type": "markdown",
   "metadata": {},
   "source": [
    "Выводы:\n",
    "\n",
    "* Jump Search работает быстрее линейного поиска, но медленнее бинарного.\n",
    "\n",
    "* Эффективен на отсортированных данных, но требует предварительной сортировки.\n",
    "\n",
    "* Хорошо подходит для больших отсортированных списков, где бинарный поиск может быть избыточным."
   ]
  },
  {
   "cell_type": "code",
   "execution_count": 123,
   "metadata": {},
   "outputs": [
    {
     "name": "stdout",
     "output_type": "stream",
     "text": [
      "\n",
      "Поиск Фибоначчи:\n",
      "Неотсортированный список:\n",
      "Начало: 1.9170999876223506e-05 секунд\n",
      "Середина: 1.9346000044606626e-05 секунд\n",
      "Конец: 2.8817999991588293e-05 секунд\n",
      "Отсортированный список:\n",
      "Начало: 2.7963000466115773e-05 секунд\n",
      "Середина: 2.232300001196563e-05 секунд\n",
      "Конец: 2.3267000215128065e-05 секунд\n"
     ]
    }
   ],
   "source": [
    "test_search_algorithm(fib_search, \"Поиск Фибоначчи\")"
   ]
  },
  {
   "cell_type": "markdown",
   "metadata": {},
   "source": [
    "Выводы:\n",
    "\n",
    "* Поиск Фибоначчи работает быстро как на отсортированных, так и на неотсортированных данных.\n",
    "\n",
    "* Похож на бинарный поиск по производительности, но может быть менее эффективен из-за сложности вычисления чисел Фибоначчи."
   ]
  },
  {
   "cell_type": "code",
   "execution_count": 111,
   "metadata": {},
   "outputs": [
    {
     "name": "stdout",
     "output_type": "stream",
     "text": [
      "\n",
      "Экспоненциальный поиск:\n",
      "Неотсортированный список:\n",
      "Начало: 0.007152668999624439 секунд\n",
      "Середина: 6.38000201433897e-07 секунд\n",
      "Конец: 5.990004865452647e-07 секунд\n",
      "Отсортированный список:\n",
      "Начало: 1.9880000036209823e-06 секунд\n",
      "Середина: 0.007823659999994561 секунд\n",
      "Конец: 0.015313828000216745 секунд\n"
     ]
    }
   ],
   "source": [
    "test_search_algorithm(exp_search, \"Экспоненциальный поиск\")"
   ]
  },
  {
   "cell_type": "markdown",
   "metadata": {},
   "source": [
    "Выводы:\n",
    "\n",
    "* Экспоненциальный поиск эффективен, если искомый элемент находится ближе к началу списка.\n",
    "\n",
    "* На больших списках его производительность может ухудшаться, особенно если элемент находится в конце."
   ]
  },
  {
   "cell_type": "code",
   "execution_count": 113,
   "metadata": {},
   "outputs": [
    {
     "name": "stdout",
     "output_type": "stream",
     "text": [
      "\n",
      "Интерполяционный поиск:\n",
      "Неотсортированный список:\n",
      "Начало: 7.660000119358302e-07 секунд\n",
      "Середина: 1.7290003597736359e-06 секунд\n",
      "Конец: 6.059999577701092e-07 секунд\n",
      "Отсортированный список:\n",
      "Начало: 3.2829999690875412e-06 секунд\n",
      "Середина: 8.401999948546291e-06 секунд\n",
      "Конец: 4.628000315278769e-06 секунд\n"
     ]
    }
   ],
   "source": [
    "test_search_algorithm(interp_search, \"Интерполяционный поиск\")"
   ]
  },
  {
   "cell_type": "markdown",
   "metadata": {},
   "source": [
    "Выводы:\n",
    "\n",
    "* Интерполяционный поиск работает очень быстро на равномерно распределённых данных.\n",
    "\n",
    "* Идеально подходит для поиска в отсортированных списках с равномерным распределением значений."
   ]
  },
  {
   "cell_type": "code",
   "execution_count": null,
   "metadata": {},
   "outputs": [],
   "source": []
  }
 ],
 "metadata": {
  "colab": {
   "provenance": []
  },
  "kernelspec": {
   "display_name": "Python [conda env:base] *",
   "language": "python",
   "name": "conda-base-py"
  },
  "language_info": {
   "codemirror_mode": {
    "name": "ipython",
    "version": 3
   },
   "file_extension": ".py",
   "mimetype": "text/x-python",
   "name": "python",
   "nbconvert_exporter": "python",
   "pygments_lexer": "ipython3",
   "version": "3.12.7"
  }
 },
 "nbformat": 4,
 "nbformat_minor": 4
}
